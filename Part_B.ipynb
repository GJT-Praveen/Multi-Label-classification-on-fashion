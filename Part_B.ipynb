{
 "cells": [
  {
   "cell_type": "code",
   "execution_count": 1,
   "metadata": {},
   "outputs": [],
   "source": [
    "import tensorflow as tf \n",
    "import pandas as pd  \n",
    "import numpy as np \n",
    "from keras.preprocessing import image\n",
    "from keras.preprocessing.image import ImageDataGenerator\n",
    "import os\n",
    "import pickle\n",
    "from urllib.request import urlopen\n",
    "import matplotlib.pyplot as plt\n",
    "from collections import defaultdict\n",
    "from collections import Counter"
   ]
  },
  {
   "cell_type": "code",
   "execution_count": 84,
   "metadata": {},
   "outputs": [],
   "source": [
    "# defining path variables\n",
    "root_dir=r'./'\n",
    "test_data_path= root_dir+'data/test/'"
   ]
  },
  {
   "cell_type": "code",
   "execution_count": 3,
   "metadata": {},
   "outputs": [],
   "source": [
    "# Downloading InceptionResNetV2 pretrained model on ImageNet dataset using Keras API\n",
    "InceptionResNetV2=tf.keras.applications.InceptionResNetV2(\n",
    "    include_top=True,\n",
    "    weights=\"imagenet\",\n",
    "    pooling=None,\n",
    "    classes=1000,\n",
    "    classifier_activation=\"softmax\"\n",
    ")\n"
   ]
  },
  {
   "cell_type": "code",
   "execution_count": 5,
   "metadata": {},
   "outputs": [],
   "source": [
    "test_images=os.listdir(test_data_path)\n",
    "np.shape(test_images)"
   ]
  },
  {
   "cell_type": "code",
   "execution_count": 35,
   "metadata": {},
   "outputs": [
    {
     "name": "stdout",
     "output_type": "stream",
     "text": [
      "batch: 1/1\n"
     ]
    }
   ],
   "source": [
    "# Loading the test images in batches,\n",
    "# Predicting the classes using the above model and saving the values in a dictionary.\n",
    "\n",
    "batch_size=6895\n",
    "steps=(len(test_images)//batch_size)\n",
    "step=0\n",
    "results={}\n",
    "while(step<steps):\n",
    "\n",
    "  # separating the batch from total data\n",
    "  start=step*batch_size\n",
    "  end=start+batch_size\n",
    "  if end>len(test_images):\n",
    "    end=len(test_images)\n",
    "  batch=test_images[start:end]\n",
    "  batch_images=[]\n",
    "\n",
    "  # loading imgs\n",
    "  for img in batch:\n",
    "    img=image.load_img(test_data_path+str(img),target_size=(299,299,3))\n",
    "    img=np.array(img)\n",
    "    img=img/255\n",
    "    batch_images.append(img)\n",
    "  print(f'batch: {step+1}/{steps}')\n",
    "\n",
    "  # predicting \n",
    "  batch_result=[]\n",
    "  for img in batch_images:\n",
    "    img=np.reshape(img,(1,299,299,3))\n",
    "    result=InceptionResNetV2.predict(img)\n",
    "    result=result.argmax(axis=-1)\n",
    "    batch_result.append(result)\n",
    "  for i in range(len(batch_result)):\n",
    "    results[batch[i]]=batch_result[i]\n",
    "  \n",
    "  #next batch\n",
    "  step+=1"
   ]
  },
  {
   "cell_type": "code",
   "execution_count": 85,
   "metadata": {},
   "outputs": [
    {
     "data": {
      "text/html": [
       "<div>\n",
       "<style scoped>\n",
       "    .dataframe tbody tr th:only-of-type {\n",
       "        vertical-align: middle;\n",
       "    }\n",
       "\n",
       "    .dataframe tbody tr th {\n",
       "        vertical-align: top;\n",
       "    }\n",
       "\n",
       "    .dataframe thead th {\n",
       "        text-align: right;\n",
       "    }\n",
       "</style>\n",
       "<table border=\"1\" class=\"dataframe\">\n",
       "  <thead>\n",
       "    <tr style=\"text-align: right;\">\n",
       "      <th></th>\n",
       "      <th>imageId</th>\n",
       "      <th>label</th>\n",
       "      <th>class</th>\n",
       "    </tr>\n",
       "  </thead>\n",
       "  <tbody>\n",
       "    <tr>\n",
       "      <th>0</th>\n",
       "      <td>3001.jpg</td>\n",
       "      <td>578</td>\n",
       "      <td>gown</td>\n",
       "    </tr>\n",
       "    <tr>\n",
       "      <th>1</th>\n",
       "      <td>3002.jpg</td>\n",
       "      <td>578</td>\n",
       "      <td>gown</td>\n",
       "    </tr>\n",
       "    <tr>\n",
       "      <th>2</th>\n",
       "      <td>3003.jpg</td>\n",
       "      <td>697</td>\n",
       "      <td>pajama, pyjama, pj's, jammies</td>\n",
       "    </tr>\n",
       "    <tr>\n",
       "      <th>3</th>\n",
       "      <td>3004.jpg</td>\n",
       "      <td>638</td>\n",
       "      <td>maillot</td>\n",
       "    </tr>\n",
       "    <tr>\n",
       "      <th>4</th>\n",
       "      <td>3005.jpg</td>\n",
       "      <td>885</td>\n",
       "      <td>velvet</td>\n",
       "    </tr>\n",
       "  </tbody>\n",
       "</table>\n",
       "</div>"
      ],
      "text/plain": [
       "    imageId label                          class\n",
       "0  3001.jpg   578                           gown\n",
       "1  3002.jpg   578                           gown\n",
       "2  3003.jpg   697  pajama, pyjama, pj's, jammies\n",
       "3  3004.jpg   638                        maillot\n",
       "4  3005.jpg   885                         velvet"
      ]
     },
     "execution_count": 85,
     "metadata": {},
     "output_type": "execute_result"
    }
   ],
   "source": [
    "# To convert the model output into human readable form we downloaded the classes dict used for ImageNet.\n",
    "classes=pickle.load(urlopen('https://gist.githubusercontent.com/yrevar/6135f1bd8dcf2e0cc683/raw/d133d61a09d7e5a3b36b8c111a8dd5c4b5d560ee/imagenet1000_clsid_to_human.pkl') )\n",
    "\n",
    "# converting the results into a dataframe for better readability\n",
    "results_df = pd.DataFrame(data=results.items(),columns=['imageId','label'])\n",
    "results_df['class']=''\n",
    "for i in range(len(results_df)):\n",
    "  results_df['label'][i]=results_df['label'][i][0]\n",
    "for i in range(len(results_df)):\n",
    "  results_df['class'][i]=classes[results_df['label'][i]]\n",
    "\n",
    "results_df.head()"
   ]
  },
  {
   "cell_type": "code",
   "execution_count": 83,
   "metadata": {},
   "outputs": [],
   "source": [
    "# Saving the output in a dataframe\n",
    "results_df.to_csv('results_InceptionResNetV2.csv',index=False)"
   ]
  },
  {
   "cell_type": "code",
   "execution_count": 86,
   "metadata": {},
   "outputs": [
    {
     "data": {
      "image/png": "[encoded data removed]",
      "text/plain": [
       "<Figure size 1440x360 with 1 Axes>"
      ]
     },
     "metadata": {
      "needs_background": "light"
     },
     "output_type": "display_data"
    }
   ],
   "source": [
    "# A hist plot showing the frequency of classes in test dataset\n",
    "\n",
    "fig=plt.figure(figsize=(20,5))\n",
    "plt.title('class_freq')\n",
    "bins=np.unique(results_df['label'])\n",
    "plt.hist(results_df['label'],bins=bins, color='g')\n",
    "plt.show()"
   ]
  },
  {
   "cell_type": "code",
   "execution_count": 79,
   "metadata": {},
   "outputs": [],
   "source": [
    "# Counting Top ten classes in test dataset\n",
    "class_freq=defaultdict(int)\n",
    "for i in results_df['class']:\n",
    "  class_freq[i]+=1\n",
    "top_10_classes = dict(Counter(class_freq).most_common(10))"
   ]
  },
  {
   "cell_type": "code",
   "execution_count": 91,
   "metadata": {},
   "outputs": [
    {
     "data": {
      "text/plain": [
       "{'miniskirt, mini': 773,\n",
       " 'jean, blue jean, denim': 629,\n",
       " 'gown': 620,\n",
       " 'jersey, T-shirt, tee shirt': 583,\n",
       " 'maillot': 484,\n",
       " \"pajama, pyjama, pj's, jammies\": 320,\n",
       " 'sweatshirt': 252,\n",
       " 'maillot, tank suit': 227,\n",
       " 'overskirt': 184,\n",
       " 'trench coat': 169}"
      ]
     },
     "execution_count": 91,
     "metadata": {},
     "output_type": "execute_result"
    }
   ],
   "source": [
    "top_10_classes"
   ]
  }
 ],
 "metadata": {
  "interpreter": {
   "hash": "12cb079e5925f8634cce7947a122331f95a26b808a4f01c9d0722af02224a639"
  },
  "kernelspec": {
   "display_name": "Python 3.9.6 64-bit ('joey': conda)",
   "language": "python",
   "name": "python3"
  },
  "language_info": {
   "codemirror_mode": {
    "name": "ipython",
    "version": 3
   },
   "file_extension": ".py",
   "mimetype": "text/x-python",
   "name": "python",
   "nbconvert_exporter": "python",
   "pygments_lexer": "ipython3",
   "version": "3.9.6"
  },
  "orig_nbformat": 4
 },
 "nbformat": 4,
 "nbformat_minor": 2
}
